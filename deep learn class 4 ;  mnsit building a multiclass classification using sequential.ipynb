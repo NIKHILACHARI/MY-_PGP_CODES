{
 "cells": [
  {
   "cell_type": "code",
   "execution_count": 1,
   "id": "c63abe5c",
   "metadata": {
    "scrolled": true
   },
   "outputs": [
    {
     "name": "stdout",
     "output_type": "stream",
     "text": [
      "Requirement already satisfied: pydot in c:\\users\\nikhil\\appdata\\local\\programs\\python\\python310\\lib\\site-packages (1.4.2)\n",
      "Requirement already satisfied: pyparsing>=2.1.4 in c:\\users\\nikhil\\appdata\\local\\programs\\python\\python310\\lib\\site-packages (from pydot) (3.0.7)\n"
     ]
    },
    {
     "name": "stderr",
     "output_type": "stream",
     "text": [
      "WARNING: There was an error checking the latest version of pip.\n"
     ]
    }
   ],
   "source": [
    "!pip install pydot"
   ]
  },
  {
   "cell_type": "code",
   "execution_count": 2,
   "id": "ef0e34aa",
   "metadata": {},
   "outputs": [
    {
     "name": "stdout",
     "output_type": "stream",
     "text": [
      "Requirement already satisfied: graphviz in c:\\users\\nikhil\\appdata\\local\\programs\\python\\python310\\lib\\site-packages (0.20)\n"
     ]
    },
    {
     "name": "stderr",
     "output_type": "stream",
     "text": [
      "WARNING: There was an error checking the latest version of pip.\n"
     ]
    }
   ],
   "source": [
    "!pip install  graphviz"
   ]
  },
  {
   "cell_type": "code",
   "execution_count": 3,
   "id": "453ff016",
   "metadata": {},
   "outputs": [
    {
     "name": "stdout",
     "output_type": "stream",
     "text": [
      "Requirement already satisfied: graphviz in c:\\users\\nikhil\\appdata\\local\\programs\\python\\python310\\lib\\site-packages (0.20)\n"
     ]
    },
    {
     "name": "stderr",
     "output_type": "stream",
     "text": [
      "WARNING: There was an error checking the latest version of pip.\n"
     ]
    }
   ],
   "source": [
    "!pip install graphviz"
   ]
  },
  {
   "cell_type": "code",
   "execution_count": 4,
   "id": "4e08a874",
   "metadata": {},
   "outputs": [],
   "source": [
    "import tensorflow as tf\n",
    "import pandas as pd"
   ]
  },
  {
   "cell_type": "code",
   "execution_count": 5,
   "id": "999cbc66",
   "metadata": {},
   "outputs": [],
   "source": [
    "#get data of mnist \n",
    "\n",
    "from tensorflow.keras.datasets import mnist"
   ]
  },
  {
   "cell_type": "code",
   "execution_count": 6,
   "id": "404c0452",
   "metadata": {},
   "outputs": [],
   "source": [
    "(X_train,y_train),(X_test,y_test) = mnist.load_data()"
   ]
  },
  {
   "cell_type": "code",
   "execution_count": 7,
   "id": "e66887aa",
   "metadata": {},
   "outputs": [
    {
     "data": {
      "text/plain": [
       "(60000, 28, 28)"
      ]
     },
     "execution_count": 7,
     "metadata": {},
     "output_type": "execute_result"
    }
   ],
   "source": [
    "#the mnist train data consist of 60K rows and 28,28 is column in matricsform\n",
    "X_train.shape"
   ]
  },
  {
   "cell_type": "code",
   "execution_count": 8,
   "id": "8670f7b1",
   "metadata": {},
   "outputs": [
    {
     "data": {
      "text/plain": [
       "(10000,)"
      ]
     },
     "execution_count": 8,
     "metadata": {},
     "output_type": "execute_result"
    }
   ],
   "source": [
    "y_test.shape"
   ]
  },
  {
   "cell_type": "code",
   "execution_count": 9,
   "id": "5d18abcb",
   "metadata": {},
   "outputs": [
    {
     "data": {
      "text/plain": [
       "2"
      ]
     },
     "execution_count": 9,
     "metadata": {},
     "output_type": "execute_result"
    }
   ],
   "source": [
    "y_train[5]"
   ]
  },
  {
   "cell_type": "code",
   "execution_count": 10,
   "id": "4222d712",
   "metadata": {},
   "outputs": [
    {
     "data": {
      "image/png": "[encoded data removed]",
      "text/plain": [
       "<Figure size 432x288 with 1 Axes>"
      ]
     },
     "metadata": {
      "needs_background": "light"
     },
     "output_type": "display_data"
    }
   ],
   "source": [
    "import matplotlib.pyplot as plt\n",
    "plt.imshow(X_train[5])\n",
    "plt.title(f\"Label from training data is {y_train[5]}\")\n",
    "plt.show()"
   ]
  },
  {
   "cell_type": "code",
   "execution_count": 11,
   "id": "733a8f09",
   "metadata": {},
   "outputs": [
    {
     "data": {
      "text/plain": [
       "(60000, 28, 28)"
      ]
     },
     "execution_count": 11,
     "metadata": {},
     "output_type": "execute_result"
    }
   ],
   "source": [
    "#preprocessing of data\n",
    "X_train.shape"
   ]
  },
  {
   "cell_type": "code",
   "execution_count": 12,
   "id": "eb22bd99",
   "metadata": {},
   "outputs": [],
   "source": [
    "X_train = X_train.reshape(60000,28*28)\n",
    "X_test = X_test.reshape(10000,28*28)"
   ]
  },
  {
   "cell_type": "code",
   "execution_count": 13,
   "id": "22669335",
   "metadata": {},
   "outputs": [
    {
     "data": {
      "text/plain": [
       "(60000, 784)"
      ]
     },
     "execution_count": 13,
     "metadata": {},
     "output_type": "execute_result"
    }
   ],
   "source": [
    "X_train.shape"
   ]
  },
  {
   "cell_type": "code",
   "execution_count": 14,
   "id": "2dfd181d",
   "metadata": {},
   "outputs": [
    {
     "data": {
      "text/plain": [
       "(10000, 784)"
      ]
     },
     "execution_count": 14,
     "metadata": {},
     "output_type": "execute_result"
    }
   ],
   "source": [
    "X_test.shape"
   ]
  },
  {
   "cell_type": "code",
   "execution_count": 15,
   "id": "5f0c7fa7",
   "metadata": {},
   "outputs": [
    {
     "data": {
      "text/plain": [
       "255"
      ]
     },
     "execution_count": 15,
     "metadata": {},
     "output_type": "execute_result"
    }
   ],
   "source": [
    "#Normalization\n",
    "import numpy as np\n",
    "np.max(X_train)"
   ]
  },
  {
   "cell_type": "code",
   "execution_count": 16,
   "id": "3e29e083",
   "metadata": {},
   "outputs": [
    {
     "data": {
      "text/plain": [
       "0"
      ]
     },
     "execution_count": 16,
     "metadata": {},
     "output_type": "execute_result"
    }
   ],
   "source": [
    "np.min(X_train)"
   ]
  },
  {
   "cell_type": "code",
   "execution_count": 17,
   "id": "969a0c00",
   "metadata": {},
   "outputs": [
    {
     "data": {
      "text/plain": [
       "(1.0, 0.0)"
      ]
     },
     "execution_count": 17,
     "metadata": {},
     "output_type": "execute_result"
    }
   ],
   "source": [
    "# 0 - black\n",
    "# 255 - white\n",
    "X_train = X_train/255.0\n",
    "X_test = X_test/255.0\n",
    "np.max(X_train) , np.min(X_train)"
   ]
  },
  {
   "cell_type": "code",
   "execution_count": 18,
   "id": "98de36b5",
   "metadata": {},
   "outputs": [],
   "source": [
    "#28,28\n",
    "# Color --> Third dimension - number of color channels"
   ]
  },
  {
   "cell_type": "code",
   "execution_count": 19,
   "id": "bfa5ad05",
   "metadata": {},
   "outputs": [
    {
     "data": {
      "image/png": "[encoded data removed]",
      "text/plain": [
       "<Figure size 432x288 with 2 Axes>"
      ]
     },
     "metadata": {
      "needs_background": "light"
     },
     "output_type": "display_data"
    }
   ],
   "source": [
    "import matplotlib.pyplot as plt\n",
    "plt.imshow(X_train[1].reshape(28,28),cmap='gray')\n",
    "plt.title(f\"Label from training data is {y_train[1]}\")\n",
    "plt.colorbar()\n",
    "plt.show()"
   ]
  },
  {
   "cell_type": "code",
   "execution_count": 20,
   "id": "3bfeaad2",
   "metadata": {},
   "outputs": [
    {
     "data": {
      "text/plain": [
       "(60000, 784)"
      ]
     },
     "execution_count": 20,
     "metadata": {},
     "output_type": "execute_result"
    }
   ],
   "source": [
    "X_train.shape"
   ]
  },
  {
   "cell_type": "code",
   "execution_count": 21,
   "id": "330c97eb",
   "metadata": {},
   "outputs": [],
   "source": [
    "y_train = tf.keras.utils.to_categorical(y_train)\n",
    "y_test = tf.keras.utils.to_categorical(y_test)"
   ]
  },
  {
   "cell_type": "code",
   "execution_count": 22,
   "id": "837ee7e3",
   "metadata": {},
   "outputs": [
    {
     "data": {
      "text/plain": [
       "(60000, 10)"
      ]
     },
     "execution_count": 22,
     "metadata": {},
     "output_type": "execute_result"
    }
   ],
   "source": [
    "y_train.shape"
   ]
  },
  {
   "cell_type": "code",
   "execution_count": 23,
   "id": "68e18fd3",
   "metadata": {},
   "outputs": [],
   "source": [
    "X_val = X_train[50000:,:]\n",
    "y_val = y_train[50000:,:]\n",
    "X_train = X_train[:50000,:]\n",
    "y_train = y_train[:50000,:]"
   ]
  },
  {
   "cell_type": "code",
   "execution_count": 24,
   "id": "f29d7a53",
   "metadata": {},
   "outputs": [
    {
     "data": {
      "text/plain": [
       "(10000, 784)"
      ]
     },
     "execution_count": 24,
     "metadata": {},
     "output_type": "execute_result"
    }
   ],
   "source": [
    "X_val.shape"
   ]
  },
  {
   "cell_type": "code",
   "execution_count": 25,
   "id": "741c0db4",
   "metadata": {},
   "outputs": [
    {
     "data": {
      "text/plain": [
       "(50000, 784)"
      ]
     },
     "execution_count": 25,
     "metadata": {},
     "output_type": "execute_result"
    }
   ],
   "source": [
    "X_train.shape"
   ]
  },
  {
   "cell_type": "code",
   "execution_count": 26,
   "id": "a4fe36c8",
   "metadata": {},
   "outputs": [],
   "source": [
    "from tensorflow.keras.models import Sequential \n",
    "from tensorflow.keras.layers import Dense"
   ]
  },
  {
   "cell_type": "code",
   "execution_count": 27,
   "id": "9226b97b",
   "metadata": {},
   "outputs": [],
   "source": [
    "model = Sequential()\n",
    "model.add(Dense(25, activation=\"relu\",input_shape=[784,]))\n",
    "model.add(Dense(20, activation=\"relu\"))\n",
    "model.add(Dense(20, activation=\"relu\"))\n",
    "model.add(Dense(20, activation=\"relu\"))\n",
    "model.add(Dense(10,activation='softmax'))"
   ]
  },
  {
   "cell_type": "code",
   "execution_count": 28,
   "id": "7c6949df",
   "metadata": {},
   "outputs": [
    {
     "name": "stdout",
     "output_type": "stream",
     "text": [
      "Model: \"sequential\"\n",
      "_________________________________________________________________\n",
      " Layer (type)                Output Shape              Param #   \n",
      "=================================================================\n",
      " dense (Dense)               (None, 25)                19625     \n",
      "                                                                 \n",
      " dense_1 (Dense)             (None, 20)                520       \n",
      "                                                                 \n",
      " dense_2 (Dense)             (None, 20)                420       \n",
      "                                                                 \n",
      " dense_3 (Dense)             (None, 20)                420       \n",
      "                                                                 \n",
      " dense_4 (Dense)             (None, 10)                210       \n",
      "                                                                 \n",
      "=================================================================\n",
      "Total params: 21,195\n",
      "Trainable params: 21,195\n",
      "Non-trainable params: 0\n",
      "_________________________________________________________________\n"
     ]
    }
   ],
   "source": [
    "model.summary()"
   ]
  },
  {
   "cell_type": "code",
   "execution_count": 29,
   "id": "f54dc926",
   "metadata": {},
   "outputs": [
    {
     "name": "stdout",
     "output_type": "stream",
     "text": [
      "You must install pydot (`pip install pydot`) and install graphviz (see instructions at https://graphviz.gitlab.io/download/) for plot_model/model_to_dot to work.\n"
     ]
    }
   ],
   "source": [
    "tf.keras.utils.plot_model(model)"
   ]
  },
  {
   "cell_type": "code",
   "execution_count": 30,
   "id": "fc8a6fd7",
   "metadata": {},
   "outputs": [],
   "source": [
    "model.compile(optimizer=\"SGD\",\n",
    "              loss = 'categorical_crossentropy',\n",
    "              metrics=['accuracy'])"
   ]
  },
  {
   "cell_type": "code",
   "execution_count": 31,
   "id": "6638e92f",
   "metadata": {},
   "outputs": [
    {
     "name": "stdout",
     "output_type": "stream",
     "text": [
      "Epoch 1/100\n",
      "1563/1563 [==============================] - 2s 1ms/step - loss: 1.0926 - accuracy: 0.6446 - val_loss: 0.4202 - val_accuracy: 0.8816\n",
      "Epoch 2/100\n",
      "1563/1563 [==============================] - 2s 1ms/step - loss: 0.3815 - accuracy: 0.8888 - val_loss: 0.3389 - val_accuracy: 0.8981\n",
      "Epoch 3/100\n",
      "1563/1563 [==============================] - 2s 1ms/step - loss: 0.2985 - accuracy: 0.9138 - val_loss: 0.2468 - val_accuracy: 0.9296\n",
      "Epoch 4/100\n",
      "1563/1563 [==============================] - 2s 1ms/step - loss: 0.2519 - accuracy: 0.9277 - val_loss: 0.2350 - val_accuracy: 0.9306\n",
      "Epoch 5/100\n",
      "1563/1563 [==============================] - 2s 1ms/step - loss: 0.2199 - accuracy: 0.9366 - val_loss: 0.2139 - val_accuracy: 0.9377\n",
      "Epoch 6/100\n",
      "1563/1563 [==============================] - 2s 1ms/step - loss: 0.1978 - accuracy: 0.9422 - val_loss: 0.1880 - val_accuracy: 0.9459\n",
      "Epoch 7/100\n",
      "1563/1563 [==============================] - 2s 1ms/step - loss: 0.1796 - accuracy: 0.9473 - val_loss: 0.1680 - val_accuracy: 0.9509\n",
      "Epoch 8/100\n",
      "1563/1563 [==============================] - 2s 1ms/step - loss: 0.1640 - accuracy: 0.9520 - val_loss: 0.1663 - val_accuracy: 0.9535\n",
      "Epoch 9/100\n",
      "1563/1563 [==============================] - 2s 1ms/step - loss: 0.1528 - accuracy: 0.9553 - val_loss: 0.1574 - val_accuracy: 0.9554\n",
      "Epoch 10/100\n",
      "1563/1563 [==============================] - 2s 1ms/step - loss: 0.1430 - accuracy: 0.9571 - val_loss: 0.1737 - val_accuracy: 0.9499\n",
      "Epoch 11/100\n",
      "1563/1563 [==============================] - 2s 1ms/step - loss: 0.1362 - accuracy: 0.9590 - val_loss: 0.1539 - val_accuracy: 0.9567\n",
      "Epoch 12/100\n",
      "1563/1563 [==============================] - 2s 1ms/step - loss: 0.1294 - accuracy: 0.9612 - val_loss: 0.1465 - val_accuracy: 0.9600\n",
      "Epoch 13/100\n",
      "1563/1563 [==============================] - 2s 1ms/step - loss: 0.1234 - accuracy: 0.9632 - val_loss: 0.1522 - val_accuracy: 0.9561\n",
      "Epoch 14/100\n",
      "1563/1563 [==============================] - 2s 1ms/step - loss: 0.1176 - accuracy: 0.9647 - val_loss: 0.1392 - val_accuracy: 0.9605\n",
      "Epoch 15/100\n",
      "1563/1563 [==============================] - 2s 1ms/step - loss: 0.1125 - accuracy: 0.9661 - val_loss: 0.1334 - val_accuracy: 0.9635\n",
      "Epoch 16/100\n",
      "1563/1563 [==============================] - 2s 1ms/step - loss: 0.1091 - accuracy: 0.9670 - val_loss: 0.1593 - val_accuracy: 0.9569\n",
      "Epoch 17/100\n",
      "1563/1563 [==============================] - 2s 1ms/step - loss: 0.1045 - accuracy: 0.9691 - val_loss: 0.1461 - val_accuracy: 0.9608\n",
      "Epoch 18/100\n",
      "1563/1563 [==============================] - 2s 1ms/step - loss: 0.1006 - accuracy: 0.9697 - val_loss: 0.1365 - val_accuracy: 0.9620\n",
      "Epoch 19/100\n",
      "1563/1563 [==============================] - 2s 1ms/step - loss: 0.0981 - accuracy: 0.9701 - val_loss: 0.1368 - val_accuracy: 0.9624\n",
      "Epoch 20/100\n",
      "1563/1563 [==============================] - 2s 1ms/step - loss: 0.0950 - accuracy: 0.9717 - val_loss: 0.1301 - val_accuracy: 0.9632\n",
      "Epoch 21/100\n",
      "1563/1563 [==============================] - 2s 1ms/step - loss: 0.0921 - accuracy: 0.9716 - val_loss: 0.1324 - val_accuracy: 0.9624\n",
      "Epoch 22/100\n",
      "1563/1563 [==============================] - 2s 1ms/step - loss: 0.0891 - accuracy: 0.9730 - val_loss: 0.1322 - val_accuracy: 0.9635\n",
      "Epoch 23/100\n",
      "1563/1563 [==============================] - 2s 1ms/step - loss: 0.0859 - accuracy: 0.9738 - val_loss: 0.1694 - val_accuracy: 0.9498\n",
      "Epoch 24/100\n",
      "1563/1563 [==============================] - 2s 1ms/step - loss: 0.0842 - accuracy: 0.9746 - val_loss: 0.1367 - val_accuracy: 0.9636\n",
      "Epoch 25/100\n",
      "1563/1563 [==============================] - 2s 1ms/step - loss: 0.0829 - accuracy: 0.9747 - val_loss: 0.1466 - val_accuracy: 0.9582\n",
      "Epoch 26/100\n",
      "1563/1563 [==============================] - 2s 1ms/step - loss: 0.0799 - accuracy: 0.9758 - val_loss: 0.1328 - val_accuracy: 0.9642\n",
      "Epoch 27/100\n",
      "1563/1563 [==============================] - 2s 1ms/step - loss: 0.0771 - accuracy: 0.9770 - val_loss: 0.1379 - val_accuracy: 0.9635\n",
      "Epoch 28/100\n",
      "1563/1563 [==============================] - 2s 1ms/step - loss: 0.0764 - accuracy: 0.9765 - val_loss: 0.1351 - val_accuracy: 0.9630\n",
      "Epoch 29/100\n",
      "1563/1563 [==============================] - 2s 1ms/step - loss: 0.0727 - accuracy: 0.9784 - val_loss: 0.1272 - val_accuracy: 0.9647\n",
      "Epoch 30/100\n",
      "1563/1563 [==============================] - 2s 1ms/step - loss: 0.0720 - accuracy: 0.9782 - val_loss: 0.1349 - val_accuracy: 0.9652\n",
      "Epoch 31/100\n",
      "1563/1563 [==============================] - 2s 1ms/step - loss: 0.0700 - accuracy: 0.9786 - val_loss: 0.1428 - val_accuracy: 0.9633\n",
      "Epoch 32/100\n",
      "1563/1563 [==============================] - 2s 1ms/step - loss: 0.0681 - accuracy: 0.9795 - val_loss: 0.1488 - val_accuracy: 0.9627\n",
      "Epoch 33/100\n",
      "1563/1563 [==============================] - 2s 1ms/step - loss: 0.0658 - accuracy: 0.9794 - val_loss: 0.1466 - val_accuracy: 0.9632\n",
      "Epoch 34/100\n",
      "1563/1563 [==============================] - 2s 1ms/step - loss: 0.0652 - accuracy: 0.9800 - val_loss: 0.1387 - val_accuracy: 0.9633\n",
      "Epoch 35/100\n",
      "1563/1563 [==============================] - 2s 1ms/step - loss: 0.0636 - accuracy: 0.9801 - val_loss: 0.1401 - val_accuracy: 0.9634\n",
      "Epoch 36/100\n",
      "1563/1563 [==============================] - 2s 1ms/step - loss: 0.0616 - accuracy: 0.9812 - val_loss: 0.1374 - val_accuracy: 0.9648\n",
      "Epoch 37/100\n",
      "1563/1563 [==============================] - 2s 1ms/step - loss: 0.0604 - accuracy: 0.9819 - val_loss: 0.1461 - val_accuracy: 0.9619\n",
      "Epoch 38/100\n",
      "1563/1563 [==============================] - 2s 1ms/step - loss: 0.0590 - accuracy: 0.9822 - val_loss: 0.1435 - val_accuracy: 0.9636\n",
      "Epoch 39/100\n",
      "1563/1563 [==============================] - 2s 1ms/step - loss: 0.0573 - accuracy: 0.9820 - val_loss: 0.1424 - val_accuracy: 0.9654\n",
      "Epoch 40/100\n",
      "1563/1563 [==============================] - 2s 1ms/step - loss: 0.0559 - accuracy: 0.9829 - val_loss: 0.1446 - val_accuracy: 0.9642\n",
      "Epoch 41/100\n",
      "1563/1563 [==============================] - 2s 1ms/step - loss: 0.0563 - accuracy: 0.9826 - val_loss: 0.1431 - val_accuracy: 0.9642\n",
      "Epoch 42/100\n",
      "1563/1563 [==============================] - 2s 1ms/step - loss: 0.0537 - accuracy: 0.9833 - val_loss: 0.1429 - val_accuracy: 0.9646\n",
      "Epoch 43/100\n",
      "1563/1563 [==============================] - 2s 1ms/step - loss: 0.0524 - accuracy: 0.9841 - val_loss: 0.1431 - val_accuracy: 0.9651\n",
      "Epoch 44/100\n",
      "1563/1563 [==============================] - 2s 1ms/step - loss: 0.0528 - accuracy: 0.9836 - val_loss: 0.1527 - val_accuracy: 0.9637\n",
      "Epoch 45/100\n",
      "1563/1563 [==============================] - 2s 1ms/step - loss: 0.0513 - accuracy: 0.9838 - val_loss: 0.1569 - val_accuracy: 0.9604\n",
      "Epoch 46/100\n",
      "1563/1563 [==============================] - 2s 1ms/step - loss: 0.0500 - accuracy: 0.9848 - val_loss: 0.1472 - val_accuracy: 0.9651\n",
      "Epoch 47/100\n",
      "1563/1563 [==============================] - 2s 1ms/step - loss: 0.0492 - accuracy: 0.9848 - val_loss: 0.1583 - val_accuracy: 0.9636\n",
      "Epoch 48/100\n",
      "1563/1563 [==============================] - 2s 1ms/step - loss: 0.0475 - accuracy: 0.9853 - val_loss: 0.1789 - val_accuracy: 0.9582\n",
      "Epoch 49/100\n",
      "1563/1563 [==============================] - 2s 1ms/step - loss: 0.0464 - accuracy: 0.9853 - val_loss: 0.1531 - val_accuracy: 0.9650\n",
      "Epoch 50/100\n",
      "1563/1563 [==============================] - 2s 1ms/step - loss: 0.0457 - accuracy: 0.9860 - val_loss: 0.1641 - val_accuracy: 0.9602\n",
      "Epoch 51/100\n",
      "1563/1563 [==============================] - 2s 1ms/step - loss: 0.0447 - accuracy: 0.9864 - val_loss: 0.1601 - val_accuracy: 0.9630\n",
      "Epoch 52/100\n",
      "1563/1563 [==============================] - 2s 1ms/step - loss: 0.0449 - accuracy: 0.9856 - val_loss: 0.1561 - val_accuracy: 0.9656\n",
      "Epoch 53/100\n",
      "1563/1563 [==============================] - 2s 1ms/step - loss: 0.0427 - accuracy: 0.9868 - val_loss: 0.1600 - val_accuracy: 0.9621\n",
      "Epoch 54/100\n",
      "1563/1563 [==============================] - 2s 1ms/step - loss: 0.0415 - accuracy: 0.9871 - val_loss: 0.1778 - val_accuracy: 0.9576\n",
      "Epoch 55/100\n",
      "1563/1563 [==============================] - 2s 1ms/step - loss: 0.0408 - accuracy: 0.9875 - val_loss: 0.1637 - val_accuracy: 0.9633\n",
      "Epoch 56/100\n",
      "1563/1563 [==============================] - 2s 1ms/step - loss: 0.0404 - accuracy: 0.9876 - val_loss: 0.1578 - val_accuracy: 0.9644\n",
      "Epoch 57/100\n"
     ]
    },
    {
     "name": "stdout",
     "output_type": "stream",
     "text": [
      "1563/1563 [==============================] - 2s 1ms/step - loss: 0.0395 - accuracy: 0.9876 - val_loss: 0.1647 - val_accuracy: 0.9636\n",
      "Epoch 58/100\n",
      "1563/1563 [==============================] - 2s 1ms/step - loss: 0.0396 - accuracy: 0.9875 - val_loss: 0.1820 - val_accuracy: 0.9628\n",
      "Epoch 59/100\n",
      "1563/1563 [==============================] - 2s 1ms/step - loss: 0.0376 - accuracy: 0.9884 - val_loss: 0.1630 - val_accuracy: 0.9634\n",
      "Epoch 60/100\n",
      "1563/1563 [==============================] - 2s 1ms/step - loss: 0.0379 - accuracy: 0.9878 - val_loss: 0.1698 - val_accuracy: 0.9644\n",
      "Epoch 61/100\n",
      "1563/1563 [==============================] - 2s 1ms/step - loss: 0.0370 - accuracy: 0.9882 - val_loss: 0.1664 - val_accuracy: 0.9637\n",
      "Epoch 62/100\n",
      "1563/1563 [==============================] - 2s 1ms/step - loss: 0.0371 - accuracy: 0.9882 - val_loss: 0.1793 - val_accuracy: 0.9636\n",
      "Epoch 63/100\n",
      "1563/1563 [==============================] - 2s 1ms/step - loss: 0.0352 - accuracy: 0.9894 - val_loss: 0.1700 - val_accuracy: 0.9653\n",
      "Epoch 64/100\n",
      "1563/1563 [==============================] - 2s 1ms/step - loss: 0.0349 - accuracy: 0.9889 - val_loss: 0.1831 - val_accuracy: 0.9628\n",
      "Epoch 65/100\n",
      "1563/1563 [==============================] - 2s 1ms/step - loss: 0.0353 - accuracy: 0.9885 - val_loss: 0.1768 - val_accuracy: 0.9640\n",
      "Epoch 66/100\n",
      "1563/1563 [==============================] - 2s 1ms/step - loss: 0.0325 - accuracy: 0.9901 - val_loss: 0.1770 - val_accuracy: 0.9617\n",
      "Epoch 67/100\n",
      "1563/1563 [==============================] - 2s 1ms/step - loss: 0.0329 - accuracy: 0.9895 - val_loss: 0.1758 - val_accuracy: 0.9635\n",
      "Epoch 68/100\n",
      "1563/1563 [==============================] - 2s 1ms/step - loss: 0.0320 - accuracy: 0.9901 - val_loss: 0.1956 - val_accuracy: 0.9617\n",
      "Epoch 69/100\n",
      "1563/1563 [==============================] - 2s 1ms/step - loss: 0.0309 - accuracy: 0.9905 - val_loss: 0.1793 - val_accuracy: 0.9630\n",
      "Epoch 70/100\n",
      "1563/1563 [==============================] - 2s 1ms/step - loss: 0.0300 - accuracy: 0.9910 - val_loss: 0.1850 - val_accuracy: 0.9639\n",
      "Epoch 71/100\n",
      "1563/1563 [==============================] - 2s 1ms/step - loss: 0.0304 - accuracy: 0.9908 - val_loss: 0.1979 - val_accuracy: 0.9609\n",
      "Epoch 72/100\n",
      "1563/1563 [==============================] - 2s 1ms/step - loss: 0.0307 - accuracy: 0.9911 - val_loss: 0.1910 - val_accuracy: 0.9605\n",
      "Epoch 73/100\n",
      "1563/1563 [==============================] - 2s 1ms/step - loss: 0.0292 - accuracy: 0.9910 - val_loss: 0.2068 - val_accuracy: 0.9597\n",
      "Epoch 74/100\n",
      "1563/1563 [==============================] - 2s 1ms/step - loss: 0.0291 - accuracy: 0.9907 - val_loss: 0.2084 - val_accuracy: 0.9573\n",
      "Epoch 75/100\n",
      "1563/1563 [==============================] - 2s 1ms/step - loss: 0.0302 - accuracy: 0.9902 - val_loss: 0.1870 - val_accuracy: 0.9623\n",
      "Epoch 76/100\n",
      "1563/1563 [==============================] - 2s 1ms/step - loss: 0.0261 - accuracy: 0.9920 - val_loss: 0.2043 - val_accuracy: 0.9600\n",
      "Epoch 77/100\n",
      "1563/1563 [==============================] - 2s 1ms/step - loss: 0.0268 - accuracy: 0.9922 - val_loss: 0.2063 - val_accuracy: 0.9615\n",
      "Epoch 78/100\n",
      "1563/1563 [==============================] - 2s 1ms/step - loss: 0.0272 - accuracy: 0.9915 - val_loss: 0.2001 - val_accuracy: 0.9632\n",
      "Epoch 79/100\n",
      "1563/1563 [==============================] - 2s 1ms/step - loss: 0.0291 - accuracy: 0.9906 - val_loss: 0.2241 - val_accuracy: 0.9608\n",
      "Epoch 80/100\n",
      "1563/1563 [==============================] - 2s 1ms/step - loss: 0.0271 - accuracy: 0.9912 - val_loss: 0.2025 - val_accuracy: 0.9623\n",
      "Epoch 81/100\n",
      "1563/1563 [==============================] - 2s 1ms/step - loss: 0.0232 - accuracy: 0.9931 - val_loss: 0.2048 - val_accuracy: 0.9608\n",
      "Epoch 82/100\n",
      "1563/1563 [==============================] - 2s 1ms/step - loss: 0.0236 - accuracy: 0.9927 - val_loss: 0.2134 - val_accuracy: 0.9616\n",
      "Epoch 83/100\n",
      "1563/1563 [==============================] - 2s 1ms/step - loss: 0.0232 - accuracy: 0.9932 - val_loss: 0.2059 - val_accuracy: 0.9631\n",
      "Epoch 84/100\n",
      "1563/1563 [==============================] - 2s 1ms/step - loss: 0.0223 - accuracy: 0.9932 - val_loss: 0.2051 - val_accuracy: 0.9621\n",
      "Epoch 85/100\n",
      "1563/1563 [==============================] - 2s 1ms/step - loss: 0.0226 - accuracy: 0.9930 - val_loss: 0.2030 - val_accuracy: 0.9647\n",
      "Epoch 86/100\n",
      "1563/1563 [==============================] - 2s 1ms/step - loss: 0.0234 - accuracy: 0.9927 - val_loss: 0.2171 - val_accuracy: 0.9638\n",
      "Epoch 87/100\n",
      "1563/1563 [==============================] - 2s 1ms/step - loss: 0.0260 - accuracy: 0.9914 - val_loss: 0.2709 - val_accuracy: 0.9506\n",
      "Epoch 88/100\n",
      "1563/1563 [==============================] - 2s 1ms/step - loss: 0.0253 - accuracy: 0.9921 - val_loss: 0.2145 - val_accuracy: 0.9620\n",
      "Epoch 89/100\n",
      "1563/1563 [==============================] - 2s 1ms/step - loss: 0.0233 - accuracy: 0.9926 - val_loss: 0.2052 - val_accuracy: 0.9640\n",
      "Epoch 90/100\n",
      "1563/1563 [==============================] - 2s 1ms/step - loss: 0.0233 - accuracy: 0.9924 - val_loss: 0.2087 - val_accuracy: 0.9636\n",
      "Epoch 91/100\n",
      "1563/1563 [==============================] - 2s 1ms/step - loss: 0.0203 - accuracy: 0.9938 - val_loss: 0.2187 - val_accuracy: 0.9639\n",
      "Epoch 92/100\n",
      "1563/1563 [==============================] - 2s 1ms/step - loss: 0.0188 - accuracy: 0.9943 - val_loss: 0.2139 - val_accuracy: 0.9633\n",
      "Epoch 93/100\n",
      "1563/1563 [==============================] - 2s 1ms/step - loss: 0.0203 - accuracy: 0.9935 - val_loss: 0.2196 - val_accuracy: 0.9627\n",
      "Epoch 94/100\n",
      "1563/1563 [==============================] - 2s 1ms/step - loss: 0.0199 - accuracy: 0.9940 - val_loss: 0.2253 - val_accuracy: 0.9633\n",
      "Epoch 95/100\n",
      "1563/1563 [==============================] - 2s 1ms/step - loss: 0.0195 - accuracy: 0.9940 - val_loss: 0.2325 - val_accuracy: 0.9613\n",
      "Epoch 96/100\n",
      "1563/1563 [==============================] - 2s 1ms/step - loss: 0.0209 - accuracy: 0.9930 - val_loss: 0.2219 - val_accuracy: 0.9642\n",
      "Epoch 97/100\n",
      "1563/1563 [==============================] - 2s 1ms/step - loss: 0.0195 - accuracy: 0.9938 - val_loss: 0.2477 - val_accuracy: 0.9602\n",
      "Epoch 98/100\n",
      "1563/1563 [==============================] - 2s 1ms/step - loss: 0.0191 - accuracy: 0.9940 - val_loss: 0.2284 - val_accuracy: 0.9638\n",
      "Epoch 99/100\n",
      "1563/1563 [==============================] - 2s 1ms/step - loss: 0.0210 - accuracy: 0.9932 - val_loss: 0.2211 - val_accuracy: 0.9662\n",
      "Epoch 100/100\n",
      "1563/1563 [==============================] - 2s 1ms/step - loss: 0.0199 - accuracy: 0.9932 - val_loss: 0.2500 - val_accuracy: 0.9598\n"
     ]
    },
    {
     "data": {
      "text/plain": [
       "<keras.callbacks.History at 0x1d88990ac80>"
      ]
     },
     "execution_count": 31,
     "metadata": {},
     "output_type": "execute_result"
    }
   ],
   "source": [
    "model.fit(X_train,y_train,validation_data=(X_val,y_val),epochs=100)"
   ]
  },
  {
   "cell_type": "code",
   "execution_count": 32,
   "id": "9df0a01d",
   "metadata": {},
   "outputs": [
    {
     "data": {
      "text/plain": [
       "array([[2.1233538e-18, 9.9921321e-11, 5.8481193e-09, ..., 1.0000000e+00,\n",
       "        9.0862945e-13, 1.8343374e-12],\n",
       "       [2.1767674e-19, 8.1139383e-08, 9.9999952e-01, ..., 9.7268003e-18,\n",
       "        1.8676319e-08, 5.2057313e-31],\n",
       "       [1.7330991e-10, 9.9977404e-01, 1.1973564e-05, ..., 1.8698804e-04,\n",
       "        2.6043132e-05, 1.2588781e-13],\n",
       "       ...,\n",
       "       [3.3279643e-25, 5.0022814e-22, 8.8251104e-22, ..., 4.1100527e-17,\n",
       "        5.8313464e-16, 6.3947990e-13],\n",
       "       [9.0029955e-19, 2.4639102e-13, 5.2681773e-18, ..., 2.2876081e-23,\n",
       "        9.9611586e-10, 5.7902914e-17],\n",
       "       [5.1141133e-22, 2.4140122e-23, 1.3305151e-19, ..., 4.7428456e-29,\n",
       "        6.7332448e-18, 9.2249529e-38]], dtype=float32)"
      ]
     },
     "execution_count": 32,
     "metadata": {},
     "output_type": "execute_result"
    }
   ],
   "source": [
    "y_pred = model.predict(X_test)\n",
    "y_pred"
   ]
  },
  {
   "cell_type": "code",
   "execution_count": 33,
   "id": "b204168e",
   "metadata": {},
   "outputs": [
    {
     "data": {
      "text/plain": [
       "array([[0., 0., 0., ..., 1., 0., 0.],\n",
       "       [0., 0., 1., ..., 0., 0., 0.],\n",
       "       [0., 1., 0., ..., 0., 0., 0.],\n",
       "       ...,\n",
       "       [0., 0., 0., ..., 0., 0., 0.],\n",
       "       [0., 0., 0., ..., 0., 0., 0.],\n",
       "       [0., 0., 0., ..., 0., 0., 0.]], dtype=float32)"
      ]
     },
     "execution_count": 33,
     "metadata": {},
     "output_type": "execute_result"
    }
   ],
   "source": [
    "y_test"
   ]
  },
  {
   "cell_type": "code",
   "execution_count": 34,
   "id": "a2dbe911",
   "metadata": {},
   "outputs": [
    {
     "ename": "ValueError",
     "evalue": "Classification metrics can't handle a mix of multilabel-indicator and continuous-multioutput targets",
     "output_type": "error",
     "traceback": [
      "\u001b[1;31m---------------------------------------------------------------------------\u001b[0m",
      "\u001b[1;31mValueError\u001b[0m                                Traceback (most recent call last)",
      "Input \u001b[1;32mIn [34]\u001b[0m, in \u001b[0;36m<cell line: 2>\u001b[1;34m()\u001b[0m\n\u001b[0;32m      1\u001b[0m \u001b[38;5;28;01mfrom\u001b[39;00m \u001b[38;5;21;01msklearn\u001b[39;00m\u001b[38;5;21;01m.\u001b[39;00m\u001b[38;5;21;01mmetrics\u001b[39;00m \u001b[38;5;28;01mimport\u001b[39;00m accuracy_score\n\u001b[1;32m----> 2\u001b[0m \u001b[43maccuracy_score\u001b[49m\u001b[43m(\u001b[49m\u001b[43my_test\u001b[49m\u001b[43m,\u001b[49m\u001b[43my_pred\u001b[49m\u001b[43m)\u001b[49m\n",
      "File \u001b[1;32m~\\AppData\\Local\\Programs\\Python\\Python310\\lib\\site-packages\\sklearn\\metrics\\_classification.py:211\u001b[0m, in \u001b[0;36maccuracy_score\u001b[1;34m(y_true, y_pred, normalize, sample_weight)\u001b[0m\n\u001b[0;32m    145\u001b[0m \u001b[38;5;124;03m\"\"\"Accuracy classification score.\u001b[39;00m\n\u001b[0;32m    146\u001b[0m \n\u001b[0;32m    147\u001b[0m \u001b[38;5;124;03mIn multilabel classification, this function computes subset accuracy:\u001b[39;00m\n\u001b[1;32m   (...)\u001b[0m\n\u001b[0;32m    207\u001b[0m \u001b[38;5;124;03m0.5\u001b[39;00m\n\u001b[0;32m    208\u001b[0m \u001b[38;5;124;03m\"\"\"\u001b[39;00m\n\u001b[0;32m    210\u001b[0m \u001b[38;5;66;03m# Compute accuracy for each possible representation\u001b[39;00m\n\u001b[1;32m--> 211\u001b[0m y_type, y_true, y_pred \u001b[38;5;241m=\u001b[39m \u001b[43m_check_targets\u001b[49m\u001b[43m(\u001b[49m\u001b[43my_true\u001b[49m\u001b[43m,\u001b[49m\u001b[43m \u001b[49m\u001b[43my_pred\u001b[49m\u001b[43m)\u001b[49m\n\u001b[0;32m    212\u001b[0m check_consistent_length(y_true, y_pred, sample_weight)\n\u001b[0;32m    213\u001b[0m \u001b[38;5;28;01mif\u001b[39;00m y_type\u001b[38;5;241m.\u001b[39mstartswith(\u001b[38;5;124m\"\u001b[39m\u001b[38;5;124mmultilabel\u001b[39m\u001b[38;5;124m\"\u001b[39m):\n",
      "File \u001b[1;32m~\\AppData\\Local\\Programs\\Python\\Python310\\lib\\site-packages\\sklearn\\metrics\\_classification.py:93\u001b[0m, in \u001b[0;36m_check_targets\u001b[1;34m(y_true, y_pred)\u001b[0m\n\u001b[0;32m     90\u001b[0m     y_type \u001b[38;5;241m=\u001b[39m {\u001b[38;5;124m\"\u001b[39m\u001b[38;5;124mmulticlass\u001b[39m\u001b[38;5;124m\"\u001b[39m}\n\u001b[0;32m     92\u001b[0m \u001b[38;5;28;01mif\u001b[39;00m \u001b[38;5;28mlen\u001b[39m(y_type) \u001b[38;5;241m>\u001b[39m \u001b[38;5;241m1\u001b[39m:\n\u001b[1;32m---> 93\u001b[0m     \u001b[38;5;28;01mraise\u001b[39;00m \u001b[38;5;167;01mValueError\u001b[39;00m(\n\u001b[0;32m     94\u001b[0m         \u001b[38;5;124m\"\u001b[39m\u001b[38;5;124mClassification metrics can\u001b[39m\u001b[38;5;124m'\u001b[39m\u001b[38;5;124mt handle a mix of \u001b[39m\u001b[38;5;132;01m{0}\u001b[39;00m\u001b[38;5;124m and \u001b[39m\u001b[38;5;132;01m{1}\u001b[39;00m\u001b[38;5;124m targets\u001b[39m\u001b[38;5;124m\"\u001b[39m\u001b[38;5;241m.\u001b[39mformat(\n\u001b[0;32m     95\u001b[0m             type_true, type_pred\n\u001b[0;32m     96\u001b[0m         )\n\u001b[0;32m     97\u001b[0m     )\n\u001b[0;32m     99\u001b[0m \u001b[38;5;66;03m# We can't have more than one value on y_type => The set is no more needed\u001b[39;00m\n\u001b[0;32m    100\u001b[0m y_type \u001b[38;5;241m=\u001b[39m y_type\u001b[38;5;241m.\u001b[39mpop()\n",
      "\u001b[1;31mValueError\u001b[0m: Classification metrics can't handle a mix of multilabel-indicator and continuous-multioutput targets"
     ]
    }
   ],
   "source": [
    "from sklearn.metrics import accuracy_score\n",
    "accuracy_score(y_test,y_pred)"
   ]
  },
  {
   "cell_type": "code",
   "execution_count": null,
   "id": "39a180e1",
   "metadata": {},
   "outputs": [],
   "source": []
  }
 ],
 "metadata": {
  "kernelspec": {
   "display_name": "Python 3 (ipykernel)",
   "language": "python",
   "name": "python3"
  },
  "language_info": {
   "codemirror_mode": {
    "name": "ipython",
    "version": 3
   },
   "file_extension": ".py",
   "mimetype": "text/x-python",
   "name": "python",
   "nbconvert_exporter": "python",
   "pygments_lexer": "ipython3",
   "version": "3.10.2"
  }
 },
 "nbformat": 4,
 "nbformat_minor": 5
}
